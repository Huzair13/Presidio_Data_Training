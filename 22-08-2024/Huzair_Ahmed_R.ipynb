{
  "nbformat": 4,
  "nbformat_minor": 0,
  "metadata": {
    "colab": {
      "provenance": []
    },
    "kernelspec": {
      "name": "python3",
      "display_name": "Python 3"
    },
    "language_info": {
      "name": "python"
    }
  },
  "cells": [
    {
      "cell_type": "code",
      "source": [
        "pip install pyspark"
      ],
      "metadata": {
        "colab": {
          "base_uri": "https://localhost:8080/"
        },
        "id": "btfMqwm0r34o",
        "outputId": "60bc695d-4f11-48eb-e163-71f407ce8b5f"
      },
      "execution_count": 1,
      "outputs": [
        {
          "output_type": "stream",
          "name": "stdout",
          "text": [
            "Requirement already satisfied: pyspark in /usr/local/lib/python3.10/dist-packages (3.5.2)\n",
            "Requirement already satisfied: py4j==0.10.9.7 in /usr/local/lib/python3.10/dist-packages (from pyspark) (0.10.9.7)\n"
          ]
        }
      ]
    },
    {
      "cell_type": "code",
      "source": [
        "import pyspark\n",
        "print(pyspark.__version__)"
      ],
      "metadata": {
        "colab": {
          "base_uri": "https://localhost:8080/"
        },
        "id": "9TN0eB6tsl4n",
        "outputId": "5fe40667-d73e-4a34-fc6c-ec3f7b36f8f0"
      },
      "execution_count": 2,
      "outputs": [
        {
          "output_type": "stream",
          "name": "stdout",
          "text": [
            "3.5.2\n"
          ]
        }
      ]
    },
    {
      "cell_type": "code",
      "execution_count": 3,
      "metadata": {
        "id": "m14JXwWLq1ZG"
      },
      "outputs": [],
      "source": [
        "from pyspark.sql import SparkSession\n",
        "from pyspark.sql.functions import col, lower, month\n",
        "from pyspark.sql.types import IntegerType\n",
        "from pyspark.sql.functions import when"
      ]
    },
    {
      "cell_type": "code",
      "source": [
        "# spark = SparkSession.builder.appName(\"ANALYSIS OF COVID\").getOrCreate()"
      ],
      "metadata": {
        "id": "DlP8wzn1rtmd"
      },
      "execution_count": 4,
      "outputs": []
    },
    {
      "cell_type": "code",
      "source": [
        "spark = SparkSession.builder \\\n",
        "    .appName(\"ANALYSIS OF COVID\") \\\n",
        "    .config(\"spark.ui.port\", \"4040\") \\\n",
        "    .getOrCreate()"
      ],
      "metadata": {
        "id": "gWauq7TwtlQV"
      },
      "execution_count": 5,
      "outputs": []
    },
    {
      "cell_type": "code",
      "source": [
        "df = spark.read.csv(\"/content/complete.csv\", header=True)"
      ],
      "metadata": {
        "id": "qaGc-P-ns04A"
      },
      "execution_count": 6,
      "outputs": []
    },
    {
      "cell_type": "code",
      "source": [
        "df.show()"
      ],
      "metadata": {
        "colab": {
          "base_uri": "https://localhost:8080/"
        },
        "id": "J1pyUtuEtE-V",
        "outputId": "5cbb35b9-4103-4e16-d009-bdc6fef81552"
      },
      "execution_count": 7,
      "outputs": [
        {
          "output_type": "stream",
          "name": "stdout",
          "text": [
            "+----------+------------------+--------+---------+---------------------+-----+-------------------------+---------+----------+-------------+\n",
            "|      Date|Name of State / UT|Latitude|Longitude|Total Confirmed cases|Death|Cured/Discharged/Migrated|New cases|New deaths|New recovered|\n",
            "+----------+------------------+--------+---------+---------------------+-----+-------------------------+---------+----------+-------------+\n",
            "|2020-01-30|            Kerala| 10.8505|  76.2711|                  1.0|    0|                      0.0|        0|         0|            0|\n",
            "|2020-01-31|            Kerala| 10.8505|  76.2711|                  1.0|    0|                      0.0|        0|         0|            0|\n",
            "|2020-02-01|            Kerala| 10.8505|  76.2711|                  2.0|    0|                      0.0|        1|         0|            0|\n",
            "|2020-02-02|            Kerala| 10.8505|  76.2711|                  3.0|    0|                      0.0|        1|         0|            0|\n",
            "|2020-02-03|            Kerala| 10.8505|  76.2711|                  3.0|    0|                      0.0|        0|         0|            0|\n",
            "|2020-02-04|            Kerala| 10.8505|  76.2711|                  3.0|    0|                      0.0|        0|         0|            0|\n",
            "|2020-02-05|            Kerala| 10.8505|  76.2711|                  3.0|    0|                      0.0|        0|         0|            0|\n",
            "|2020-02-06|            Kerala| 10.8505|  76.2711|                  3.0|    0|                      0.0|        0|         0|            0|\n",
            "|2020-02-07|            Kerala| 10.8505|  76.2711|                  3.0|    0|                      0.0|        0|         0|            0|\n",
            "|2020-02-08|            Kerala| 10.8505|  76.2711|                  3.0|    0|                      0.0|        0|         0|            0|\n",
            "|2020-02-09|            Kerala| 10.8505|  76.2711|                  3.0|    0|                      0.0|        0|         0|            0|\n",
            "|2020-02-10|            Kerala| 10.8505|  76.2711|                  3.0|    0|                      0.0|        0|         0|            0|\n",
            "|2020-02-11|            Kerala| 10.8505|  76.2711|                  3.0|    0|                      0.0|        0|         0|            0|\n",
            "|2020-02-12|            Kerala| 10.8505|  76.2711|                  3.0|    0|                      0.0|        0|         0|            0|\n",
            "|2020-02-13|            Kerala| 10.8505|  76.2711|                  3.0|    0|                      0.0|        0|         0|            0|\n",
            "|2020-02-14|            Kerala| 10.8505|  76.2711|                  3.0|    0|                      0.0|        0|         0|            0|\n",
            "|2020-02-15|            Kerala| 10.8505|  76.2711|                  3.0|    0|                      0.0|        0|         0|            0|\n",
            "|2020-02-16|            Kerala| 10.8505|  76.2711|                  3.0|    0|                      0.0|        0|         0|            0|\n",
            "|2020-02-17|            Kerala| 10.8505|  76.2711|                  3.0|    0|                      0.0|        0|         0|            0|\n",
            "|2020-02-18|            Kerala| 10.8505|  76.2711|                  3.0|    0|                      0.0|        0|         0|            0|\n",
            "+----------+------------------+--------+---------+---------------------+-----+-------------------------+---------+----------+-------------+\n",
            "only showing top 20 rows\n",
            "\n"
          ]
        }
      ]
    },
    {
      "cell_type": "code",
      "source": [
        "df.printSchema()"
      ],
      "metadata": {
        "colab": {
          "base_uri": "https://localhost:8080/"
        },
        "id": "IGOotiVQtNVk",
        "outputId": "dd276339-a4e8-472b-a295-07e8088992e2"
      },
      "execution_count": 8,
      "outputs": [
        {
          "output_type": "stream",
          "name": "stdout",
          "text": [
            "root\n",
            " |-- Date: string (nullable = true)\n",
            " |-- Name of State / UT: string (nullable = true)\n",
            " |-- Latitude: string (nullable = true)\n",
            " |-- Longitude: string (nullable = true)\n",
            " |-- Total Confirmed cases: string (nullable = true)\n",
            " |-- Death: string (nullable = true)\n",
            " |-- Cured/Discharged/Migrated: string (nullable = true)\n",
            " |-- New cases: string (nullable = true)\n",
            " |-- New deaths: string (nullable = true)\n",
            " |-- New recovered: string (nullable = true)\n",
            "\n"
          ]
        }
      ]
    },
    {
      "cell_type": "code",
      "source": [
        "df = df.withColumnRenamed(\"Name of State / UT\",\"State\") \\\n",
        "      .withColumnRenamed(\"Cured/Discharged/Migrated\",\"Status\")"
      ],
      "metadata": {
        "id": "uIbC6fVUu6Kg"
      },
      "execution_count": 9,
      "outputs": []
    },
    {
      "cell_type": "code",
      "source": [
        "df.show(10)"
      ],
      "metadata": {
        "colab": {
          "base_uri": "https://localhost:8080/"
        },
        "id": "rPeSwd3tvZjg",
        "outputId": "f40e392b-1afd-417d-fa32-4f20db286395"
      },
      "execution_count": 10,
      "outputs": [
        {
          "output_type": "stream",
          "name": "stdout",
          "text": [
            "+----------+------+--------+---------+---------------------+-----+------+---------+----------+-------------+\n",
            "|      Date| State|Latitude|Longitude|Total Confirmed cases|Death|Status|New cases|New deaths|New recovered|\n",
            "+----------+------+--------+---------+---------------------+-----+------+---------+----------+-------------+\n",
            "|2020-01-30|Kerala| 10.8505|  76.2711|                  1.0|    0|   0.0|        0|         0|            0|\n",
            "|2020-01-31|Kerala| 10.8505|  76.2711|                  1.0|    0|   0.0|        0|         0|            0|\n",
            "|2020-02-01|Kerala| 10.8505|  76.2711|                  2.0|    0|   0.0|        1|         0|            0|\n",
            "|2020-02-02|Kerala| 10.8505|  76.2711|                  3.0|    0|   0.0|        1|         0|            0|\n",
            "|2020-02-03|Kerala| 10.8505|  76.2711|                  3.0|    0|   0.0|        0|         0|            0|\n",
            "|2020-02-04|Kerala| 10.8505|  76.2711|                  3.0|    0|   0.0|        0|         0|            0|\n",
            "|2020-02-05|Kerala| 10.8505|  76.2711|                  3.0|    0|   0.0|        0|         0|            0|\n",
            "|2020-02-06|Kerala| 10.8505|  76.2711|                  3.0|    0|   0.0|        0|         0|            0|\n",
            "|2020-02-07|Kerala| 10.8505|  76.2711|                  3.0|    0|   0.0|        0|         0|            0|\n",
            "|2020-02-08|Kerala| 10.8505|  76.2711|                  3.0|    0|   0.0|        0|         0|            0|\n",
            "+----------+------+--------+---------+---------------------+-----+------+---------+----------+-------------+\n",
            "only showing top 10 rows\n",
            "\n"
          ]
        }
      ]
    },
    {
      "cell_type": "code",
      "source": [
        "df.count()"
      ],
      "metadata": {
        "colab": {
          "base_uri": "https://localhost:8080/"
        },
        "id": "jiACGPKjw584",
        "outputId": "d1624ac0-f7ef-47fa-b7d5-df73893f1770"
      },
      "execution_count": 11,
      "outputs": [
        {
          "output_type": "execute_result",
          "data": {
            "text/plain": [
              "4692"
            ]
          },
          "metadata": {},
          "execution_count": 11
        }
      ]
    },
    {
      "cell_type": "code",
      "source": [
        "df = df.dropna()"
      ],
      "metadata": {
        "id": "fQCkjnbBvcEu"
      },
      "execution_count": 12,
      "outputs": []
    },
    {
      "cell_type": "code",
      "source": [
        "df.count()"
      ],
      "metadata": {
        "colab": {
          "base_uri": "https://localhost:8080/"
        },
        "id": "DTd0fOttwwyx",
        "outputId": "6c64493a-7ea0-4608-c37f-70c927431f9b"
      },
      "execution_count": 13,
      "outputs": [
        {
          "output_type": "execute_result",
          "data": {
            "text/plain": [
              "4692"
            ]
          },
          "metadata": {},
          "execution_count": 13
        }
      ]
    },
    {
      "cell_type": "markdown",
      "source": [
        "**1) CONVERT ALL STATE NAMES TO LOWERCASE**"
      ],
      "metadata": {
        "id": "G--O8I4gxUN-"
      }
    },
    {
      "cell_type": "code",
      "source": [
        "df=df.withColumn(\"State\", lower(col(\"State\")))\n"
      ],
      "metadata": {
        "id": "FGT7j-wh6dxq"
      },
      "execution_count": 14,
      "outputs": []
    },
    {
      "cell_type": "code",
      "source": [
        "df.show()"
      ],
      "metadata": {
        "colab": {
          "base_uri": "https://localhost:8080/"
        },
        "id": "_syXmaP4w2Am",
        "outputId": "1ebfbf09-51e1-4f02-e68d-7659383d2560"
      },
      "execution_count": 15,
      "outputs": [
        {
          "output_type": "stream",
          "name": "stdout",
          "text": [
            "+----------+------+--------+---------+---------------------+-----+------+---------+----------+-------------+\n",
            "|      Date| State|Latitude|Longitude|Total Confirmed cases|Death|Status|New cases|New deaths|New recovered|\n",
            "+----------+------+--------+---------+---------------------+-----+------+---------+----------+-------------+\n",
            "|2020-01-30|kerala| 10.8505|  76.2711|                  1.0|    0|   0.0|        0|         0|            0|\n",
            "|2020-01-31|kerala| 10.8505|  76.2711|                  1.0|    0|   0.0|        0|         0|            0|\n",
            "|2020-02-01|kerala| 10.8505|  76.2711|                  2.0|    0|   0.0|        1|         0|            0|\n",
            "|2020-02-02|kerala| 10.8505|  76.2711|                  3.0|    0|   0.0|        1|         0|            0|\n",
            "|2020-02-03|kerala| 10.8505|  76.2711|                  3.0|    0|   0.0|        0|         0|            0|\n",
            "|2020-02-04|kerala| 10.8505|  76.2711|                  3.0|    0|   0.0|        0|         0|            0|\n",
            "|2020-02-05|kerala| 10.8505|  76.2711|                  3.0|    0|   0.0|        0|         0|            0|\n",
            "|2020-02-06|kerala| 10.8505|  76.2711|                  3.0|    0|   0.0|        0|         0|            0|\n",
            "|2020-02-07|kerala| 10.8505|  76.2711|                  3.0|    0|   0.0|        0|         0|            0|\n",
            "|2020-02-08|kerala| 10.8505|  76.2711|                  3.0|    0|   0.0|        0|         0|            0|\n",
            "|2020-02-09|kerala| 10.8505|  76.2711|                  3.0|    0|   0.0|        0|         0|            0|\n",
            "|2020-02-10|kerala| 10.8505|  76.2711|                  3.0|    0|   0.0|        0|         0|            0|\n",
            "|2020-02-11|kerala| 10.8505|  76.2711|                  3.0|    0|   0.0|        0|         0|            0|\n",
            "|2020-02-12|kerala| 10.8505|  76.2711|                  3.0|    0|   0.0|        0|         0|            0|\n",
            "|2020-02-13|kerala| 10.8505|  76.2711|                  3.0|    0|   0.0|        0|         0|            0|\n",
            "|2020-02-14|kerala| 10.8505|  76.2711|                  3.0|    0|   0.0|        0|         0|            0|\n",
            "|2020-02-15|kerala| 10.8505|  76.2711|                  3.0|    0|   0.0|        0|         0|            0|\n",
            "|2020-02-16|kerala| 10.8505|  76.2711|                  3.0|    0|   0.0|        0|         0|            0|\n",
            "|2020-02-17|kerala| 10.8505|  76.2711|                  3.0|    0|   0.0|        0|         0|            0|\n",
            "|2020-02-18|kerala| 10.8505|  76.2711|                  3.0|    0|   0.0|        0|         0|            0|\n",
            "+----------+------+--------+---------+---------------------+-----+------+---------+----------+-------------+\n",
            "only showing top 20 rows\n",
            "\n"
          ]
        }
      ]
    },
    {
      "cell_type": "markdown",
      "source": [
        "**2) THE DAY THAT HAS GREATER NUMBER OF COVID CASES**"
      ],
      "metadata": {
        "id": "MYQsjtigx1sU"
      }
    },
    {
      "cell_type": "code",
      "source": [
        "df_output = df.orderBy(col(\"New cases\").desc()).first()"
      ],
      "metadata": {
        "id": "zYVsuY4Gxgq9"
      },
      "execution_count": 16,
      "outputs": []
    },
    {
      "cell_type": "code",
      "source": [
        "print(f\"{df_output['Date']} with {df_output['New cases']} cases.\")"
      ],
      "metadata": {
        "colab": {
          "base_uri": "https://localhost:8080/"
        },
        "id": "PFTUsa2k0IYa",
        "outputId": "8227dd01-749f-48b6-fb5e-4dfd98cda2d3"
      },
      "execution_count": 17,
      "outputs": [
        {
          "output_type": "stream",
          "name": "stdout",
          "text": [
            "2020-07-21 with 998 cases.\n"
          ]
        }
      ]
    },
    {
      "cell_type": "markdown",
      "source": [
        "**3) THE STATE HAS SECOND HIGHEST NUMBER OF COVID CASE**"
      ],
      "metadata": {
        "id": "hCCBWTMgzNun"
      }
    },
    {
      "cell_type": "code",
      "source": [
        "df = df.withColumn(\"Total Confirmed cases\", col(\"Total Confirmed cases\").cast(IntegerType()))"
      ],
      "metadata": {
        "id": "unU63O-q0L56"
      },
      "execution_count": 18,
      "outputs": []
    },
    {
      "cell_type": "code",
      "source": [
        "df_output_state_with_high_covid = df.groupBy(\"State\") \\\n",
        "    .sum(\"Total Confirmed cases\") \\\n",
        "    .orderBy(col(\"sum(Total Confirmed cases)\").desc()) \\\n",
        "    .collect()[1]\n",
        ""
      ],
      "metadata": {
        "id": "0DHAT9PsyHNN"
      },
      "execution_count": 19,
      "outputs": []
    },
    {
      "cell_type": "code",
      "source": [
        "print(f\"{df_output_state_with_high_covid['State']} with {df_output_state_with_high_covid['sum(Total Confirmed cases)']} cases\")\n"
      ],
      "metadata": {
        "colab": {
          "base_uri": "https://localhost:8080/"
        },
        "id": "2zue5aIA5n5X",
        "outputId": "0bd2344d-2942-4545-f7a3-02cc2b6dde52"
      },
      "execution_count": 20,
      "outputs": [
        {
          "output_type": "stream",
          "name": "stdout",
          "text": [
            "tamil nadu with 7847083 cases\n"
          ]
        }
      ]
    },
    {
      "cell_type": "markdown",
      "source": [
        "**4) UNION TERRITORY WITH LEAST NUM OF DEATH**"
      ],
      "metadata": {
        "id": "MEYPElvW1YzY"
      }
    },
    {
      "cell_type": "code",
      "source": [
        "df = df.withColumn(\"Death\", col(\"Death\").cast(IntegerType()))"
      ],
      "metadata": {
        "id": "U_QKuWVw1rEn"
      },
      "execution_count": 21,
      "outputs": []
    },
    {
      "cell_type": "code",
      "source": [],
      "metadata": {
        "id": "hhGw5WwB2EzO"
      },
      "execution_count": 21,
      "outputs": []
    },
    {
      "cell_type": "code",
      "source": [
        "df_output_UT_with_least_num_of_death = df.filter(col(\"State\").like(\"union territory%\")) \\\n",
        "    .groupBy(\"State\") \\\n",
        "    .sum(\"Death\") \\\n",
        "    .orderBy(col(\"sum(Death)\").asc()) \\\n",
        "    .first()"
      ],
      "metadata": {
        "id": "we9YD8IC07_-"
      },
      "execution_count": 22,
      "outputs": []
    },
    {
      "cell_type": "code",
      "source": [
        "print(f\"{df_output_UT_with_least_num_of_death['State']} with {df_output_UT_with_least_num_of_death['sum(Death)']} Deaths\")"
      ],
      "metadata": {
        "colab": {
          "base_uri": "https://localhost:8080/"
        },
        "id": "anwiZqxl5qKu",
        "outputId": "5ab4391a-f0e8-46f2-86ea-c30482b0e3a7"
      },
      "execution_count": 23,
      "outputs": [
        {
          "output_type": "stream",
          "name": "stdout",
          "text": [
            "union territory of ladakh with 0 Deaths\n"
          ]
        }
      ]
    },
    {
      "cell_type": "markdown",
      "source": [
        "**5) THE STATE HAS THE LOWEST DEATH TO TOTAL CONFIRMED CASES RATIO**"
      ],
      "metadata": {
        "id": "Llar1COF2-rL"
      }
    },
    {
      "cell_type": "code",
      "source": [
        "df_output_state_ratio = df.withColumn(\"Death_to_Confirmed_Ratio\",\n",
        "                              when(col(\"Total Confirmed cases\") > 0, col(\"Death\") / col(\"Total Confirmed cases\")).otherwise(0))\n"
      ],
      "metadata": {
        "id": "brN-ECAy3sPe"
      },
      "execution_count": 24,
      "outputs": []
    },
    {
      "cell_type": "code",
      "source": [
        "df_output_state_ratio.show()"
      ],
      "metadata": {
        "colab": {
          "base_uri": "https://localhost:8080/"
        },
        "id": "g9DQ_bot3tPO",
        "outputId": "10df9c44-0d8e-4dc1-eb6c-a747d0fc7170"
      },
      "execution_count": 25,
      "outputs": [
        {
          "output_type": "stream",
          "name": "stdout",
          "text": [
            "+----------+------+--------+---------+---------------------+-----+------+---------+----------+-------------+------------------------+\n",
            "|      Date| State|Latitude|Longitude|Total Confirmed cases|Death|Status|New cases|New deaths|New recovered|Death_to_Confirmed_Ratio|\n",
            "+----------+------+--------+---------+---------------------+-----+------+---------+----------+-------------+------------------------+\n",
            "|2020-01-30|kerala| 10.8505|  76.2711|                    1|    0|   0.0|        0|         0|            0|                     0.0|\n",
            "|2020-01-31|kerala| 10.8505|  76.2711|                    1|    0|   0.0|        0|         0|            0|                     0.0|\n",
            "|2020-02-01|kerala| 10.8505|  76.2711|                    2|    0|   0.0|        1|         0|            0|                     0.0|\n",
            "|2020-02-02|kerala| 10.8505|  76.2711|                    3|    0|   0.0|        1|         0|            0|                     0.0|\n",
            "|2020-02-03|kerala| 10.8505|  76.2711|                    3|    0|   0.0|        0|         0|            0|                     0.0|\n",
            "|2020-02-04|kerala| 10.8505|  76.2711|                    3|    0|   0.0|        0|         0|            0|                     0.0|\n",
            "|2020-02-05|kerala| 10.8505|  76.2711|                    3|    0|   0.0|        0|         0|            0|                     0.0|\n",
            "|2020-02-06|kerala| 10.8505|  76.2711|                    3|    0|   0.0|        0|         0|            0|                     0.0|\n",
            "|2020-02-07|kerala| 10.8505|  76.2711|                    3|    0|   0.0|        0|         0|            0|                     0.0|\n",
            "|2020-02-08|kerala| 10.8505|  76.2711|                    3|    0|   0.0|        0|         0|            0|                     0.0|\n",
            "|2020-02-09|kerala| 10.8505|  76.2711|                    3|    0|   0.0|        0|         0|            0|                     0.0|\n",
            "|2020-02-10|kerala| 10.8505|  76.2711|                    3|    0|   0.0|        0|         0|            0|                     0.0|\n",
            "|2020-02-11|kerala| 10.8505|  76.2711|                    3|    0|   0.0|        0|         0|            0|                     0.0|\n",
            "|2020-02-12|kerala| 10.8505|  76.2711|                    3|    0|   0.0|        0|         0|            0|                     0.0|\n",
            "|2020-02-13|kerala| 10.8505|  76.2711|                    3|    0|   0.0|        0|         0|            0|                     0.0|\n",
            "|2020-02-14|kerala| 10.8505|  76.2711|                    3|    0|   0.0|        0|         0|            0|                     0.0|\n",
            "|2020-02-15|kerala| 10.8505|  76.2711|                    3|    0|   0.0|        0|         0|            0|                     0.0|\n",
            "|2020-02-16|kerala| 10.8505|  76.2711|                    3|    0|   0.0|        0|         0|            0|                     0.0|\n",
            "|2020-02-17|kerala| 10.8505|  76.2711|                    3|    0|   0.0|        0|         0|            0|                     0.0|\n",
            "|2020-02-18|kerala| 10.8505|  76.2711|                    3|    0|   0.0|        0|         0|            0|                     0.0|\n",
            "+----------+------+--------+---------+---------------------+-----+------+---------+----------+-------------+------------------------+\n",
            "only showing top 20 rows\n",
            "\n"
          ]
        }
      ]
    },
    {
      "cell_type": "code",
      "source": [],
      "metadata": {
        "id": "xaF_fZrX65jK"
      },
      "execution_count": 25,
      "outputs": []
    },
    {
      "cell_type": "code",
      "source": [
        "df_output_loweest = df_output_state_ratio.groupBy(\"State\") \\\n",
        "    .avg(\"death_to_confirmed_ratio\") \\\n",
        "    .orderBy(col(\"avg(death_to_confirmed_ratio)\").asc()) \\\n",
        "    .first()"
      ],
      "metadata": {
        "id": "dwAvTsWF3z0O"
      },
      "execution_count": 26,
      "outputs": []
    },
    {
      "cell_type": "code",
      "source": [
        "df_output_loweest"
      ],
      "metadata": {
        "colab": {
          "base_uri": "https://localhost:8080/"
        },
        "id": "2U2XoGzc308t",
        "outputId": "33cf2525-9b65-4167-c622-f68ca37a3545"
      },
      "execution_count": 27,
      "outputs": [
        {
          "output_type": "execute_result",
          "data": {
            "text/plain": [
              "Row(State='union territory of ladakh', avg(death_to_confirmed_ratio)=0.0)"
            ]
          },
          "metadata": {},
          "execution_count": 27
        }
      ]
    },
    {
      "cell_type": "code",
      "source": [
        "print(f\"{df_output_loweest['State']} with ratio {df_output_loweest['avg(death_to_confirmed_ratio)']}\")\n"
      ],
      "metadata": {
        "colab": {
          "base_uri": "https://localhost:8080/"
        },
        "id": "uA-SdK-szy0V",
        "outputId": "d2248f8e-058a-4ec7-fbe7-83bc37c18b8f"
      },
      "execution_count": 28,
      "outputs": [
        {
          "output_type": "stream",
          "name": "stdout",
          "text": [
            "union territory of ladakh with ratio 0.0\n"
          ]
        }
      ]
    },
    {
      "cell_type": "code",
      "source": [],
      "metadata": {
        "id": "BQhu9qw93nS1"
      },
      "execution_count": 28,
      "outputs": []
    },
    {
      "cell_type": "markdown",
      "source": [
        "**6) MONTH MORE NEWER CASES RECOVERED**"
      ],
      "metadata": {
        "id": "b0nKM7kb4Qys"
      }
    },
    {
      "cell_type": "code",
      "source": [
        "df = df.withColumn(\"New recovered\", col(\"New recovered\").cast(IntegerType()))"
      ],
      "metadata": {
        "id": "OzVC80fZ4dsu"
      },
      "execution_count": 29,
      "outputs": []
    },
    {
      "cell_type": "code",
      "source": [
        "df_output_month = df.withColumn(\"Month\", month(col(\"Date\")))"
      ],
      "metadata": {
        "id": "dor9crxv5RJT"
      },
      "execution_count": 30,
      "outputs": []
    },
    {
      "cell_type": "code",
      "source": [
        "df_output_recovered = df_output_month.groupBy(\"Month\") \\\n",
        "    .sum(\"New recovered\") \\\n",
        "    .orderBy(col(\"sum(New recovered)\").desc()) \\\n",
        "    .first()"
      ],
      "metadata": {
        "id": "jSLXDxGJ5TRQ"
      },
      "execution_count": 31,
      "outputs": []
    },
    {
      "cell_type": "code",
      "source": [
        "months = {\n",
        "    1: \"January\", 2: \"February\", 3: \"March\", 4: \"April\", 5: \"May\", 6: \"June\",\n",
        "    7: \"July\", 8: \"August\", 9: \"September\", 10: \"October\", 11: \"November\", 12: \"December\"\n",
        "}"
      ],
      "metadata": {
        "id": "WsGoYzly5UWc"
      },
      "execution_count": 32,
      "outputs": []
    },
    {
      "cell_type": "code",
      "source": [
        "print(f\"{months.get(df_output_recovered['Month'])}\")"
      ],
      "metadata": {
        "colab": {
          "base_uri": "https://localhost:8080/"
        },
        "id": "cHpq9hv74ZYu",
        "outputId": "1a0b20ee-a971-41bb-d2af-030eeedd6c5d"
      },
      "execution_count": 33,
      "outputs": [
        {
          "output_type": "stream",
          "name": "stdout",
          "text": [
            "July\n"
          ]
        }
      ]
    },
    {
      "cell_type": "code",
      "source": [],
      "metadata": {
        "id": "K5lM4FOS4c9H"
      },
      "execution_count": 36,
      "outputs": []
    }
  ]
}